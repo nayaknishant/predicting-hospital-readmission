{
 "cells": [
  {
   "cell_type": "markdown",
   "id": "dutch-handle",
   "metadata": {},
   "source": [
    "# Predicting Hospital Readmission for Patients with Diabetes\n",
    "### by Nishant Nayak\n",
    "### May 9th, 2021"
   ]
  },
  {
   "cell_type": "markdown",
   "id": "peaceful-blank",
   "metadata": {},
   "source": [
    "## Project summary\n",
    "The objective of this project is to develop a model that will predict whether or not a patient will be readmitted within 30 days. The report is divided into six sections:\n",
    "- Data exploration\n",
    "- Feature extraction\n",
    "- Creating Training / Validation / Test Data\n",
    "- Model Selection\n",
    "- Test Evaluation\n",
    "- Conclusion\n",
    "\n",
    "The best model, the SGD Logistic Regression classifer, has a 67% test accuracy on held-out data and an AUC score of 0.66."
   ]
  },
  {
   "cell_type": "markdown",
   "id": "advised-specialist",
   "metadata": {},
   "source": [
    "## Data exploration"
   ]
  },
  {
   "cell_type": "code",
   "execution_count": 1,
   "id": "laden-beast",
   "metadata": {},
   "outputs": [],
   "source": [
    "import pandas as pd\n",
    "import numpy as np\n",
    "import matplotlib.pyplot as plt"
   ]
  },
  {
   "cell_type": "code",
   "execution_count": 2,
   "id": "attended-savings",
   "metadata": {},
   "outputs": [
    {
     "name": "stdout",
     "output_type": "stream",
     "text": [
      "Total number samples:  101766\n"
     ]
    }
   ],
   "source": [
    "hospital_df = pd.read_csv('diabetic_data.csv')\n",
    "print('Total number samples: ', len(hospital_df))"
   ]
  },
  {
   "cell_type": "code",
   "execution_count": 3,
   "id": "alpine-minute",
   "metadata": {},
   "outputs": [
    {
     "data": {
      "text/html": [
       "<div>\n",
       "<style scoped>\n",
       "    .dataframe tbody tr th:only-of-type {\n",
       "        vertical-align: middle;\n",
       "    }\n",
       "\n",
       "    .dataframe tbody tr th {\n",
       "        vertical-align: top;\n",
       "    }\n",
       "\n",
       "    .dataframe thead th {\n",
       "        text-align: right;\n",
       "    }\n",
       "</style>\n",
       "<table border=\"1\" class=\"dataframe\">\n",
       "  <thead>\n",
       "    <tr style=\"text-align: right;\">\n",
       "      <th></th>\n",
       "      <th>encounter_id</th>\n",
       "      <th>patient_nbr</th>\n",
       "      <th>race</th>\n",
       "      <th>gender</th>\n",
       "      <th>age</th>\n",
       "      <th>weight</th>\n",
       "      <th>admission_type_id</th>\n",
       "      <th>discharge_disposition_id</th>\n",
       "      <th>admission_source_id</th>\n",
       "      <th>time_in_hospital</th>\n",
       "      <th>...</th>\n",
       "      <th>citoglipton</th>\n",
       "      <th>insulin</th>\n",
       "      <th>glyburide-metformin</th>\n",
       "      <th>glipizide-metformin</th>\n",
       "      <th>glimepiride-pioglitazone</th>\n",
       "      <th>metformin-rosiglitazone</th>\n",
       "      <th>metformin-pioglitazone</th>\n",
       "      <th>change</th>\n",
       "      <th>diabetesMed</th>\n",
       "      <th>readmitted</th>\n",
       "    </tr>\n",
       "  </thead>\n",
       "  <tbody>\n",
       "    <tr>\n",
       "      <th>0</th>\n",
       "      <td>2278392</td>\n",
       "      <td>8222157</td>\n",
       "      <td>Caucasian</td>\n",
       "      <td>Female</td>\n",
       "      <td>[0-10)</td>\n",
       "      <td>?</td>\n",
       "      <td>6</td>\n",
       "      <td>25</td>\n",
       "      <td>1</td>\n",
       "      <td>1</td>\n",
       "      <td>...</td>\n",
       "      <td>No</td>\n",
       "      <td>No</td>\n",
       "      <td>No</td>\n",
       "      <td>No</td>\n",
       "      <td>No</td>\n",
       "      <td>No</td>\n",
       "      <td>No</td>\n",
       "      <td>No</td>\n",
       "      <td>No</td>\n",
       "      <td>NO</td>\n",
       "    </tr>\n",
       "    <tr>\n",
       "      <th>1</th>\n",
       "      <td>149190</td>\n",
       "      <td>55629189</td>\n",
       "      <td>Caucasian</td>\n",
       "      <td>Female</td>\n",
       "      <td>[10-20)</td>\n",
       "      <td>?</td>\n",
       "      <td>1</td>\n",
       "      <td>1</td>\n",
       "      <td>7</td>\n",
       "      <td>3</td>\n",
       "      <td>...</td>\n",
       "      <td>No</td>\n",
       "      <td>Up</td>\n",
       "      <td>No</td>\n",
       "      <td>No</td>\n",
       "      <td>No</td>\n",
       "      <td>No</td>\n",
       "      <td>No</td>\n",
       "      <td>Ch</td>\n",
       "      <td>Yes</td>\n",
       "      <td>&gt;30</td>\n",
       "    </tr>\n",
       "    <tr>\n",
       "      <th>2</th>\n",
       "      <td>64410</td>\n",
       "      <td>86047875</td>\n",
       "      <td>AfricanAmerican</td>\n",
       "      <td>Female</td>\n",
       "      <td>[20-30)</td>\n",
       "      <td>?</td>\n",
       "      <td>1</td>\n",
       "      <td>1</td>\n",
       "      <td>7</td>\n",
       "      <td>2</td>\n",
       "      <td>...</td>\n",
       "      <td>No</td>\n",
       "      <td>No</td>\n",
       "      <td>No</td>\n",
       "      <td>No</td>\n",
       "      <td>No</td>\n",
       "      <td>No</td>\n",
       "      <td>No</td>\n",
       "      <td>No</td>\n",
       "      <td>Yes</td>\n",
       "      <td>NO</td>\n",
       "    </tr>\n",
       "    <tr>\n",
       "      <th>3</th>\n",
       "      <td>500364</td>\n",
       "      <td>82442376</td>\n",
       "      <td>Caucasian</td>\n",
       "      <td>Male</td>\n",
       "      <td>[30-40)</td>\n",
       "      <td>?</td>\n",
       "      <td>1</td>\n",
       "      <td>1</td>\n",
       "      <td>7</td>\n",
       "      <td>2</td>\n",
       "      <td>...</td>\n",
       "      <td>No</td>\n",
       "      <td>Up</td>\n",
       "      <td>No</td>\n",
       "      <td>No</td>\n",
       "      <td>No</td>\n",
       "      <td>No</td>\n",
       "      <td>No</td>\n",
       "      <td>Ch</td>\n",
       "      <td>Yes</td>\n",
       "      <td>NO</td>\n",
       "    </tr>\n",
       "    <tr>\n",
       "      <th>4</th>\n",
       "      <td>16680</td>\n",
       "      <td>42519267</td>\n",
       "      <td>Caucasian</td>\n",
       "      <td>Male</td>\n",
       "      <td>[40-50)</td>\n",
       "      <td>?</td>\n",
       "      <td>1</td>\n",
       "      <td>1</td>\n",
       "      <td>7</td>\n",
       "      <td>1</td>\n",
       "      <td>...</td>\n",
       "      <td>No</td>\n",
       "      <td>Steady</td>\n",
       "      <td>No</td>\n",
       "      <td>No</td>\n",
       "      <td>No</td>\n",
       "      <td>No</td>\n",
       "      <td>No</td>\n",
       "      <td>Ch</td>\n",
       "      <td>Yes</td>\n",
       "      <td>NO</td>\n",
       "    </tr>\n",
       "  </tbody>\n",
       "</table>\n",
       "<p>5 rows × 50 columns</p>\n",
       "</div>"
      ],
      "text/plain": [
       "   encounter_id  patient_nbr             race  gender      age weight  \\\n",
       "0       2278392      8222157        Caucasian  Female   [0-10)      ?   \n",
       "1        149190     55629189        Caucasian  Female  [10-20)      ?   \n",
       "2         64410     86047875  AfricanAmerican  Female  [20-30)      ?   \n",
       "3        500364     82442376        Caucasian    Male  [30-40)      ?   \n",
       "4         16680     42519267        Caucasian    Male  [40-50)      ?   \n",
       "\n",
       "   admission_type_id  discharge_disposition_id  admission_source_id  \\\n",
       "0                  6                        25                    1   \n",
       "1                  1                         1                    7   \n",
       "2                  1                         1                    7   \n",
       "3                  1                         1                    7   \n",
       "4                  1                         1                    7   \n",
       "\n",
       "   time_in_hospital  ... citoglipton insulin  glyburide-metformin  \\\n",
       "0                 1  ...          No      No                   No   \n",
       "1                 3  ...          No      Up                   No   \n",
       "2                 2  ...          No      No                   No   \n",
       "3                 2  ...          No      Up                   No   \n",
       "4                 1  ...          No  Steady                   No   \n",
       "\n",
       "   glipizide-metformin  glimepiride-pioglitazone  metformin-rosiglitazone  \\\n",
       "0                   No                        No                       No   \n",
       "1                   No                        No                       No   \n",
       "2                   No                        No                       No   \n",
       "3                   No                        No                       No   \n",
       "4                   No                        No                       No   \n",
       "\n",
       "   metformin-pioglitazone  change diabetesMed readmitted  \n",
       "0                      No      No          No         NO  \n",
       "1                      No      Ch         Yes        >30  \n",
       "2                      No      No         Yes         NO  \n",
       "3                      No      Ch         Yes         NO  \n",
       "4                      No      Ch         Yes         NO  \n",
       "\n",
       "[5 rows x 50 columns]"
      ]
     },
     "execution_count": 3,
     "metadata": {},
     "output_type": "execute_result"
    }
   ],
   "source": [
    "hospital_df.head()"
   ]
  },
  {
   "cell_type": "markdown",
   "id": "opened-handling",
   "metadata": {},
   "source": [
    "Each sample in our dataset has 49 features. The two main types of features are categorical (`race`, `gender`), and numerical (`time_in_hospital`). To understand the features better, I'll look at the unique values for each feature."
   ]
  },
  {
   "cell_type": "code",
   "execution_count": 4,
   "id": "published-canada",
   "metadata": {},
   "outputs": [
    {
     "name": "stdout",
     "output_type": "stream",
     "text": [
      "encounter_id:\n",
      "101766 unique values\n",
      "patient_nbr:\n",
      "71518 unique values\n",
      "race:\n",
      "['Caucasian' 'AfricanAmerican' '?' 'Other' 'Asian' 'Hispanic']\n",
      "gender:\n",
      "['Female' 'Male' 'Unknown/Invalid']\n",
      "age:\n",
      "['[0-10)' '[10-20)' '[20-30)' '[30-40)' '[40-50)' '[50-60)' '[60-70)'\n",
      " '[70-80)' '[80-90)' '[90-100)']\n",
      "weight:\n",
      "['?' '[75-100)' '[50-75)' '[0-25)' '[100-125)' '[25-50)' '[125-150)'\n",
      " '[175-200)' '[150-175)' '>200']\n",
      "admission_type_id:\n",
      "[6 1 2 3 4 5 8 7]\n",
      "discharge_disposition_id:\n",
      "26 unique values\n",
      "admission_source_id:\n",
      "[ 1  7  2  4  5  6 20  3 17  8  9 14 10 22 11 25 13]\n",
      "time_in_hospital:\n",
      "[ 1  3  2  4  5 13 12  9  7 10  6 11  8 14]\n",
      "payer_code:\n",
      "['?' 'MC' 'MD' 'HM' 'UN' 'BC' 'SP' 'CP' 'SI' 'DM' 'CM' 'CH' 'PO' 'WC' 'OT'\n",
      " 'OG' 'MP' 'FR']\n",
      "medical_specialty:\n",
      "73 unique values\n",
      "num_lab_procedures:\n",
      "118 unique values\n",
      "num_procedures:\n",
      "[0 5 1 6 2 3 4]\n",
      "num_medications:\n",
      "75 unique values\n",
      "number_outpatient:\n",
      "39 unique values\n",
      "number_emergency:\n",
      "33 unique values\n",
      "number_inpatient:\n",
      "21 unique values\n",
      "diag_1:\n",
      "717 unique values\n",
      "diag_2:\n",
      "749 unique values\n",
      "diag_3:\n",
      "790 unique values\n",
      "number_diagnoses:\n",
      "[ 1  9  6  7  5  8  3  4  2 16 12 13 15 10 11 14]\n",
      "max_glu_serum:\n",
      "['None' '>300' 'Norm' '>200']\n",
      "A1Cresult:\n",
      "['None' '>7' '>8' 'Norm']\n",
      "metformin:\n",
      "['No' 'Steady' 'Up' 'Down']\n",
      "repaglinide:\n",
      "['No' 'Up' 'Steady' 'Down']\n",
      "nateglinide:\n",
      "['No' 'Steady' 'Down' 'Up']\n",
      "chlorpropamide:\n",
      "['No' 'Steady' 'Down' 'Up']\n",
      "glimepiride:\n",
      "['No' 'Steady' 'Down' 'Up']\n",
      "acetohexamide:\n",
      "['No' 'Steady']\n",
      "glipizide:\n",
      "['No' 'Steady' 'Up' 'Down']\n",
      "glyburide:\n",
      "['No' 'Steady' 'Up' 'Down']\n",
      "tolbutamide:\n",
      "['No' 'Steady']\n",
      "pioglitazone:\n",
      "['No' 'Steady' 'Up' 'Down']\n",
      "rosiglitazone:\n",
      "['No' 'Steady' 'Up' 'Down']\n",
      "acarbose:\n",
      "['No' 'Steady' 'Up' 'Down']\n",
      "miglitol:\n",
      "['No' 'Steady' 'Down' 'Up']\n",
      "troglitazone:\n",
      "['No' 'Steady']\n",
      "tolazamide:\n",
      "['No' 'Steady' 'Up']\n",
      "examide:\n",
      "['No']\n",
      "citoglipton:\n",
      "['No']\n",
      "insulin:\n",
      "['No' 'Up' 'Steady' 'Down']\n",
      "glyburide-metformin:\n",
      "['No' 'Steady' 'Down' 'Up']\n",
      "glipizide-metformin:\n",
      "['No' 'Steady']\n",
      "glimepiride-pioglitazone:\n",
      "['No' 'Steady']\n",
      "metformin-rosiglitazone:\n",
      "['No' 'Steady']\n",
      "metformin-pioglitazone:\n",
      "['No' 'Steady']\n",
      "change:\n",
      "['No' 'Ch']\n",
      "diabetesMed:\n",
      "['No' 'Yes']\n",
      "readmitted:\n",
      "['NO' '>30' '<30']\n"
     ]
    }
   ],
   "source": [
    "for column in list(hospital_df):\n",
    "    unique_vals = hospital_df[column].unique()\n",
    "    \n",
    "    if len(unique_vals) < 20:\n",
    "        print(column + ':')\n",
    "        print(unique_vals)\n",
    "    else:\n",
    "        print(column + ':')\n",
    "        print(str(len(unique_vals)) + ' unique values')"
   ]
  },
  {
   "cell_type": "markdown",
   "id": "rapid-payday",
   "metadata": {},
   "source": [
    "Using the information from IDs_mapping.csv, we notice that IDs 11, 13, 14, 19, 20, and 21 in the `discharge_disposition_id` variable relate to death or hospice. The samples with these discharge_disposition_ids are not related to our predictive task, so we will remove these samples from our dataset."
   ]
  },
  {
   "cell_type": "code",
   "execution_count": 5,
   "id": "trained-thousand",
   "metadata": {},
   "outputs": [
    {
     "name": "stdout",
     "output_type": "stream",
     "text": [
      "Total number samples:  99343\n"
     ]
    }
   ],
   "source": [
    "hospital_df = hospital_df.loc[~hospital_df.discharge_disposition_id.isin([11, 13, 14, 19, 20, 21])]\n",
    "print('Total number samples: ', len(hospital_df))"
   ]
  },
  {
   "cell_type": "markdown",
   "id": "exotic-merit",
   "metadata": {},
   "source": [
    "We define a output label for our classification task. If the patient is readmitted within 30 days, the output  label is 1, otherwise the output label is 0."
   ]
  },
  {
   "cell_type": "code",
   "execution_count": 8,
   "id": "posted-smoke",
   "metadata": {
    "scrolled": true
   },
   "outputs": [
    {
     "data": {
      "text/html": [
       "<div>\n",
       "<style scoped>\n",
       "    .dataframe tbody tr th:only-of-type {\n",
       "        vertical-align: middle;\n",
       "    }\n",
       "\n",
       "    .dataframe tbody tr th {\n",
       "        vertical-align: top;\n",
       "    }\n",
       "\n",
       "    .dataframe thead th {\n",
       "        text-align: right;\n",
       "    }\n",
       "</style>\n",
       "<table border=\"1\" class=\"dataframe\">\n",
       "  <thead>\n",
       "    <tr style=\"text-align: right;\">\n",
       "      <th></th>\n",
       "      <th>readmitted</th>\n",
       "      <th>output_label</th>\n",
       "    </tr>\n",
       "  </thead>\n",
       "  <tbody>\n",
       "    <tr>\n",
       "      <th>0</th>\n",
       "      <td>NO</td>\n",
       "      <td>0</td>\n",
       "    </tr>\n",
       "    <tr>\n",
       "      <th>1</th>\n",
       "      <td>&gt;30</td>\n",
       "      <td>0</td>\n",
       "    </tr>\n",
       "    <tr>\n",
       "      <th>2</th>\n",
       "      <td>NO</td>\n",
       "      <td>0</td>\n",
       "    </tr>\n",
       "    <tr>\n",
       "      <th>3</th>\n",
       "      <td>NO</td>\n",
       "      <td>0</td>\n",
       "    </tr>\n",
       "    <tr>\n",
       "      <th>4</th>\n",
       "      <td>NO</td>\n",
       "      <td>0</td>\n",
       "    </tr>\n",
       "  </tbody>\n",
       "</table>\n",
       "</div>"
      ],
      "text/plain": [
       "  readmitted  output_label\n",
       "0         NO             0\n",
       "1        >30             0\n",
       "2         NO             0\n",
       "3         NO             0\n",
       "4         NO             0"
      ]
     },
     "execution_count": 8,
     "metadata": {},
     "output_type": "execute_result"
    }
   ],
   "source": [
    "hospital_df['output_label'] = (hospital_df['readmitted'] == '<30').astype('int')\n",
    "hospital_df[['readmitted', 'output_label']].head()"
   ]
  },
  {
   "cell_type": "code",
   "execution_count": 9,
   "id": "direct-mechanics",
   "metadata": {},
   "outputs": [
    {
     "name": "stdout",
     "output_type": "stream",
     "text": [
      "Prevalance of readmitted patients: 0.11388824577474005\n"
     ]
    }
   ],
   "source": [
    "print('Prevalance of readmitted patients:', \n",
    "      sum(hospital_df['output_label'].values) / len(hospital_df['output_label'].values))"
   ]
  },
  {
   "cell_type": "markdown",
   "id": "nonprofit-letters",
   "metadata": {},
   "source": [
    "### Takeaways\n",
    "- In this dataset age and weight are categorical variables (ranges) and not numerical variables (specific values)\n",
    "- We will not use the `examide` or `citoglipton` feature because it only has a single value, 'No'\n",
    "- Most of the features have between 2-20 unique values. A few of the features such as `medical_speciality` and `num_lab_procedures` have more than 20 unique values\n",
    "- 11.38% of the sample population is readmitted. This represents an imbalanced classification problem."
   ]
  },
  {
   "cell_type": "markdown",
   "id": "republican-teach",
   "metadata": {},
   "source": [
    "## Feature Extraction"
   ]
  },
  {
   "cell_type": "code",
   "execution_count": 19,
   "id": "forty-livestock",
   "metadata": {},
   "outputs": [],
   "source": [
    "# replace ? with nan\n",
    "hospital_df = hospital_df.replace('?', np.nan)"
   ]
  },
  {
   "cell_type": "markdown",
   "id": "waiting-nightlife",
   "metadata": {},
   "source": [
    "### Numerical features\n",
    "These features have specific integer values and do not need to be modified. The columns that have numerical features are shown below."
   ]
  },
  {
   "cell_type": "code",
   "execution_count": 20,
   "id": "remarkable-major",
   "metadata": {},
   "outputs": [],
   "source": [
    "numerical_cols = ['time_in_hospital', 'num_lab_procedures', 'num_procedures', 'num_medications',\n",
    "                  'number_outpatient', 'number_emergency', 'number_inpatient', 'number_diagnoses']"
   ]
  },
  {
   "cell_type": "markdown",
   "id": "bizarre-ground",
   "metadata": {},
   "source": [
    "We want to ensure there are no missing values in the numerical features."
   ]
  },
  {
   "cell_type": "code",
   "execution_count": 21,
   "id": "dressed-alcohol",
   "metadata": {},
   "outputs": [
    {
     "data": {
      "text/plain": [
       "time_in_hospital      0\n",
       "num_lab_procedures    0\n",
       "num_procedures        0\n",
       "num_medications       0\n",
       "number_outpatient     0\n",
       "number_emergency      0\n",
       "number_inpatient      0\n",
       "number_diagnoses      0\n",
       "dtype: int64"
      ]
     },
     "execution_count": 21,
     "metadata": {},
     "output_type": "execute_result"
    }
   ],
   "source": [
    "hospital_df[numerical_cols].isnull().sum()"
   ]
  },
  {
   "cell_type": "markdown",
   "id": "level-startup",
   "metadata": {},
   "source": [
    "The `age` and `weight` columns are categorical ranges, but we want to convert them to numerical data. We use a dictionary to map the age ranges to specific integer values and since most samples do not have a weight measurement, we create a `has_weight` column."
   ]
  },
  {
   "cell_type": "code",
   "execution_count": 22,
   "id": "enhanced-racing",
   "metadata": {},
   "outputs": [],
   "source": [
    "age_id = {'[0-10)': 0, \n",
    "          '[10-20)': 10, \n",
    "          '[20-30)': 20, \n",
    "          '[30-40)': 30, \n",
    "          '[40-50)': 40, \n",
    "          '[50-60)': 50,\n",
    "          '[60-70)': 60, \n",
    "          '[70-80)': 70, \n",
    "          '[80-90)': 80, \n",
    "          '[90-100)': 90}\n",
    "hospital_df['age_group'] = hospital_df.age.replace(age_id)\n",
    "\n",
    "hospital_df['has_weight'] = hospital_df.weight.notnull().astype('int')\n",
    "numerical_cols.append('age_group')\n",
    "numerical_cols.append('has_weight')"
   ]
  },
  {
   "cell_type": "markdown",
   "id": "regular-wagon",
   "metadata": {},
   "source": [
    "### Categorical features\n",
    "Categorical features are qualitative, non-numeric data such as gender or race. We use one-hot encoding to turn the non-numeric data into numeric variables."
   ]
  },
  {
   "cell_type": "code",
   "execution_count": 23,
   "id": "billion-donna",
   "metadata": {},
   "outputs": [],
   "source": [
    "medicines = list(hospital_df.columns)[21:46]\n",
    "medicines.remove('examide')\n",
    "medicines.remove('citoglipton')\n",
    "categorical_cols = ['race', 'gender', 'payer_code', 'medical_specialty'] + medicines + ['change', 'diabetesMed'] "
   ]
  },
  {
   "cell_type": "markdown",
   "id": "ignored-slave",
   "metadata": {},
   "source": [
    "We want to ensure there are no missing values in the numerical features."
   ]
  },
  {
   "cell_type": "code",
   "execution_count": 24,
   "id": "brazilian-sandwich",
   "metadata": {},
   "outputs": [
    {
     "data": {
      "text/plain": [
       "race                         2234\n",
       "gender                          0\n",
       "payer_code                  39398\n",
       "medical_specialty           48616\n",
       "number_diagnoses                0\n",
       "max_glu_serum                   0\n",
       "A1Cresult                       0\n",
       "metformin                       0\n",
       "repaglinide                     0\n",
       "nateglinide                     0\n",
       "chlorpropamide                  0\n",
       "glimepiride                     0\n",
       "acetohexamide                   0\n",
       "glipizide                       0\n",
       "glyburide                       0\n",
       "tolbutamide                     0\n",
       "pioglitazone                    0\n",
       "rosiglitazone                   0\n",
       "acarbose                        0\n",
       "miglitol                        0\n",
       "troglitazone                    0\n",
       "tolazamide                      0\n",
       "insulin                         0\n",
       "glyburide-metformin             0\n",
       "glipizide-metformin             0\n",
       "glimepiride-pioglitazone        0\n",
       "metformin-rosiglitazone         0\n",
       "change                          0\n",
       "diabetesMed                     0\n",
       "dtype: int64"
      ]
     },
     "execution_count": 24,
     "metadata": {},
     "output_type": "execute_result"
    }
   ],
   "source": [
    "hospital_df[categorical_cols].isnull().sum()"
   ]
  },
  {
   "cell_type": "markdown",
   "id": "respiratory-alaska",
   "metadata": {},
   "source": [
    "`race`, `payer_code`, and `medical_specialty` columns all have missing data. We replace these unknown with an UNK token."
   ]
  },
  {
   "cell_type": "code",
   "execution_count": 25,
   "id": "labeled-singles",
   "metadata": {},
   "outputs": [],
   "source": [
    "hospital_df['race'] = hospital_df['race'].fillna('UNK')\n",
    "hospital_df['payer_code'] = hospital_df['payer_code'].fillna('UNK')\n",
    "hospital_df['medical_specialty'] = hospital_df['medical_specialty'].fillna('UNK')"
   ]
  },
  {
   "cell_type": "markdown",
   "id": "conceptual-democrat",
   "metadata": {},
   "source": [
    "Since we want to change the categorical features to one-hot encoding, we want to limit sparsity. The `race` and `payer_code` columns have only a few unique values, but the `medical_speciality` column has 73 unique values. "
   ]
  },
  {
   "cell_type": "code",
   "execution_count": 26,
   "id": "suspected-electric",
   "metadata": {},
   "outputs": [
    {
     "data": {
      "text/plain": [
       "medical_specialty\n",
       "UNK                           48616\n",
       "InternalMedicine              14237\n",
       "Emergency/Trauma               7419\n",
       "Family/GeneralPractice         7252\n",
       "Cardiology                     5279\n",
       "Surgery-General                3059\n",
       "Nephrology                     1539\n",
       "Orthopedics                    1392\n",
       "Orthopedics-Reconstructive     1230\n",
       "Radiologist                    1121\n",
       "dtype: int64"
      ]
     },
     "execution_count": 26,
     "metadata": {},
     "output_type": "execute_result"
    }
   ],
   "source": [
    "hospital_df.groupby('medical_specialty').size().sort_values(ascending = False)[:10]"
   ]
  },
  {
   "cell_type": "markdown",
   "id": "lovely-professional",
   "metadata": {},
   "source": [
    "Most of the samples are categorized as the UNK token and the counts drop off quickly. We want to reduce the number of unique values in the `medical_speciality` column so we only keep the top 10 most common categories, and add a 'Other' value for the remaining categories."
   ]
  },
  {
   "cell_type": "code",
   "execution_count": 27,
   "id": "funded-community",
   "metadata": {},
   "outputs": [],
   "source": [
    "top_10 = list(hospital_df.groupby('medical_specialty').size().sort_values(ascending = False)[:10].index)\n",
    "\n",
    "hospital_df['med_spec'] = hospital_df['medical_specialty']\n",
    "\n",
    "# replace all specialties not in the top 10 with the 'Other' category\n",
    "hospital_df.loc[~hospital_df.med_spec.isin(top_10), 'med_spec'] = 'Other'"
   ]
  },
  {
   "cell_type": "code",
   "execution_count": 28,
   "id": "aggressive-dialogue",
   "metadata": {},
   "outputs": [
    {
     "data": {
      "text/plain": [
       "med_spec\n",
       "UNK                           48616\n",
       "InternalMedicine              14237\n",
       "Other                          8199\n",
       "Emergency/Trauma               7419\n",
       "Family/GeneralPractice         7252\n",
       "Cardiology                     5279\n",
       "Surgery-General                3059\n",
       "Nephrology                     1539\n",
       "Orthopedics                    1392\n",
       "Orthopedics-Reconstructive     1230\n",
       "Radiologist                    1121\n",
       "dtype: int64"
      ]
     },
     "execution_count": 28,
     "metadata": {},
     "output_type": "execute_result"
    }
   ],
   "source": [
    "hospital_df.groupby('med_spec').size().sort_values(ascending = False)"
   ]
  },
  {
   "cell_type": "markdown",
   "id": "demographic-blond",
   "metadata": {},
   "source": [
    "Use the get_dummies function to create the one-hot encoding representation of our categorical features."
   ]
  },
  {
   "cell_type": "code",
   "execution_count": 29,
   "id": "identified-blend",
   "metadata": {},
   "outputs": [],
   "source": [
    "# Convert categorical numbers to strings for get_dummies function\n",
    "categorical_num_cols = ['admission_type_id', 'discharge_disposition_id', 'admission_source_id']\n",
    "hospital_df[categorical_num_cols] = hospital_df[categorical_num_cols].astype('str')\n",
    "\n",
    "categorical_cols.remove('medical_specialty')\n",
    "df_encoded = pd.get_dummies(hospital_df[categorical_cols + categorical_num_cols + ['med_spec']], drop_first = True)"
   ]
  },
  {
   "cell_type": "code",
   "execution_count": 30,
   "id": "comic-import",
   "metadata": {},
   "outputs": [
    {
     "data": {
      "text/html": [
       "<div>\n",
       "<style scoped>\n",
       "    .dataframe tbody tr th:only-of-type {\n",
       "        vertical-align: middle;\n",
       "    }\n",
       "\n",
       "    .dataframe tbody tr th {\n",
       "        vertical-align: top;\n",
       "    }\n",
       "\n",
       "    .dataframe thead th {\n",
       "        text-align: right;\n",
       "    }\n",
       "</style>\n",
       "<table border=\"1\" class=\"dataframe\">\n",
       "  <thead>\n",
       "    <tr style=\"text-align: right;\">\n",
       "      <th></th>\n",
       "      <th>number_diagnoses</th>\n",
       "      <th>race_Asian</th>\n",
       "      <th>race_Caucasian</th>\n",
       "      <th>race_Hispanic</th>\n",
       "      <th>race_Other</th>\n",
       "      <th>race_UNK</th>\n",
       "      <th>gender_Male</th>\n",
       "      <th>gender_Unknown/Invalid</th>\n",
       "      <th>payer_code_CH</th>\n",
       "      <th>payer_code_CM</th>\n",
       "      <th>...</th>\n",
       "      <th>med_spec_Emergency/Trauma</th>\n",
       "      <th>med_spec_Family/GeneralPractice</th>\n",
       "      <th>med_spec_InternalMedicine</th>\n",
       "      <th>med_spec_Nephrology</th>\n",
       "      <th>med_spec_Orthopedics</th>\n",
       "      <th>med_spec_Orthopedics-Reconstructive</th>\n",
       "      <th>med_spec_Other</th>\n",
       "      <th>med_spec_Radiologist</th>\n",
       "      <th>med_spec_Surgery-General</th>\n",
       "      <th>med_spec_UNK</th>\n",
       "    </tr>\n",
       "  </thead>\n",
       "  <tbody>\n",
       "    <tr>\n",
       "      <th>0</th>\n",
       "      <td>1</td>\n",
       "      <td>0</td>\n",
       "      <td>1</td>\n",
       "      <td>0</td>\n",
       "      <td>0</td>\n",
       "      <td>0</td>\n",
       "      <td>0</td>\n",
       "      <td>0</td>\n",
       "      <td>0</td>\n",
       "      <td>0</td>\n",
       "      <td>...</td>\n",
       "      <td>0</td>\n",
       "      <td>0</td>\n",
       "      <td>0</td>\n",
       "      <td>0</td>\n",
       "      <td>0</td>\n",
       "      <td>0</td>\n",
       "      <td>1</td>\n",
       "      <td>0</td>\n",
       "      <td>0</td>\n",
       "      <td>0</td>\n",
       "    </tr>\n",
       "    <tr>\n",
       "      <th>1</th>\n",
       "      <td>9</td>\n",
       "      <td>0</td>\n",
       "      <td>1</td>\n",
       "      <td>0</td>\n",
       "      <td>0</td>\n",
       "      <td>0</td>\n",
       "      <td>0</td>\n",
       "      <td>0</td>\n",
       "      <td>0</td>\n",
       "      <td>0</td>\n",
       "      <td>...</td>\n",
       "      <td>0</td>\n",
       "      <td>0</td>\n",
       "      <td>0</td>\n",
       "      <td>0</td>\n",
       "      <td>0</td>\n",
       "      <td>0</td>\n",
       "      <td>0</td>\n",
       "      <td>0</td>\n",
       "      <td>0</td>\n",
       "      <td>1</td>\n",
       "    </tr>\n",
       "    <tr>\n",
       "      <th>2</th>\n",
       "      <td>6</td>\n",
       "      <td>0</td>\n",
       "      <td>0</td>\n",
       "      <td>0</td>\n",
       "      <td>0</td>\n",
       "      <td>0</td>\n",
       "      <td>0</td>\n",
       "      <td>0</td>\n",
       "      <td>0</td>\n",
       "      <td>0</td>\n",
       "      <td>...</td>\n",
       "      <td>0</td>\n",
       "      <td>0</td>\n",
       "      <td>0</td>\n",
       "      <td>0</td>\n",
       "      <td>0</td>\n",
       "      <td>0</td>\n",
       "      <td>0</td>\n",
       "      <td>0</td>\n",
       "      <td>0</td>\n",
       "      <td>1</td>\n",
       "    </tr>\n",
       "    <tr>\n",
       "      <th>3</th>\n",
       "      <td>7</td>\n",
       "      <td>0</td>\n",
       "      <td>1</td>\n",
       "      <td>0</td>\n",
       "      <td>0</td>\n",
       "      <td>0</td>\n",
       "      <td>1</td>\n",
       "      <td>0</td>\n",
       "      <td>0</td>\n",
       "      <td>0</td>\n",
       "      <td>...</td>\n",
       "      <td>0</td>\n",
       "      <td>0</td>\n",
       "      <td>0</td>\n",
       "      <td>0</td>\n",
       "      <td>0</td>\n",
       "      <td>0</td>\n",
       "      <td>0</td>\n",
       "      <td>0</td>\n",
       "      <td>0</td>\n",
       "      <td>1</td>\n",
       "    </tr>\n",
       "    <tr>\n",
       "      <th>4</th>\n",
       "      <td>5</td>\n",
       "      <td>0</td>\n",
       "      <td>1</td>\n",
       "      <td>0</td>\n",
       "      <td>0</td>\n",
       "      <td>0</td>\n",
       "      <td>1</td>\n",
       "      <td>0</td>\n",
       "      <td>0</td>\n",
       "      <td>0</td>\n",
       "      <td>...</td>\n",
       "      <td>0</td>\n",
       "      <td>0</td>\n",
       "      <td>0</td>\n",
       "      <td>0</td>\n",
       "      <td>0</td>\n",
       "      <td>0</td>\n",
       "      <td>0</td>\n",
       "      <td>0</td>\n",
       "      <td>0</td>\n",
       "      <td>1</td>\n",
       "    </tr>\n",
       "  </tbody>\n",
       "</table>\n",
       "<p>5 rows × 133 columns</p>\n",
       "</div>"
      ],
      "text/plain": [
       "   number_diagnoses  race_Asian  race_Caucasian  race_Hispanic  race_Other  \\\n",
       "0                 1           0               1              0           0   \n",
       "1                 9           0               1              0           0   \n",
       "2                 6           0               0              0           0   \n",
       "3                 7           0               1              0           0   \n",
       "4                 5           0               1              0           0   \n",
       "\n",
       "   race_UNK  gender_Male  gender_Unknown/Invalid  payer_code_CH  \\\n",
       "0         0            0                       0              0   \n",
       "1         0            0                       0              0   \n",
       "2         0            0                       0              0   \n",
       "3         0            1                       0              0   \n",
       "4         0            1                       0              0   \n",
       "\n",
       "   payer_code_CM  ...  med_spec_Emergency/Trauma  \\\n",
       "0              0  ...                          0   \n",
       "1              0  ...                          0   \n",
       "2              0  ...                          0   \n",
       "3              0  ...                          0   \n",
       "4              0  ...                          0   \n",
       "\n",
       "   med_spec_Family/GeneralPractice  med_spec_InternalMedicine  \\\n",
       "0                                0                          0   \n",
       "1                                0                          0   \n",
       "2                                0                          0   \n",
       "3                                0                          0   \n",
       "4                                0                          0   \n",
       "\n",
       "   med_spec_Nephrology  med_spec_Orthopedics  \\\n",
       "0                    0                     0   \n",
       "1                    0                     0   \n",
       "2                    0                     0   \n",
       "3                    0                     0   \n",
       "4                    0                     0   \n",
       "\n",
       "   med_spec_Orthopedics-Reconstructive  med_spec_Other  med_spec_Radiologist  \\\n",
       "0                                    0               1                     0   \n",
       "1                                    0               0                     0   \n",
       "2                                    0               0                     0   \n",
       "3                                    0               0                     0   \n",
       "4                                    0               0                     0   \n",
       "\n",
       "   med_spec_Surgery-General  med_spec_UNK  \n",
       "0                         0             0  \n",
       "1                         0             1  \n",
       "2                         0             1  \n",
       "3                         0             1  \n",
       "4                         0             1  \n",
       "\n",
       "[5 rows x 133 columns]"
      ]
     },
     "execution_count": 30,
     "metadata": {},
     "output_type": "execute_result"
    }
   ],
   "source": [
    "df_encoded.head()"
   ]
  },
  {
   "cell_type": "code",
   "execution_count": 31,
   "id": "working-population",
   "metadata": {},
   "outputs": [],
   "source": [
    "# add one-hot encoding data to original data\n",
    "hospital_df = pd.concat([hospital_df, df_encoded], axis = 1)\n",
    "all_categorical_cols = list(df_encoded.columns)"
   ]
  },
  {
   "cell_type": "markdown",
   "id": "textile-memphis",
   "metadata": {},
   "source": [
    "We create a new dataframe that only has our desired features and the output label"
   ]
  },
  {
   "cell_type": "code",
   "execution_count": 32,
   "id": "executed-cemetery",
   "metadata": {},
   "outputs": [],
   "source": [
    "feature_cols = numerical_cols + all_categorical_cols\n",
    "hospital_data = hospital_df[feature_cols + ['output_label']]"
   ]
  },
  {
   "cell_type": "code",
   "execution_count": 33,
   "id": "sustainable-princeton",
   "metadata": {},
   "outputs": [
    {
     "data": {
      "text/html": [
       "<div>\n",
       "<style scoped>\n",
       "    .dataframe tbody tr th:only-of-type {\n",
       "        vertical-align: middle;\n",
       "    }\n",
       "\n",
       "    .dataframe tbody tr th {\n",
       "        vertical-align: top;\n",
       "    }\n",
       "\n",
       "    .dataframe thead th {\n",
       "        text-align: right;\n",
       "    }\n",
       "</style>\n",
       "<table border=\"1\" class=\"dataframe\">\n",
       "  <thead>\n",
       "    <tr style=\"text-align: right;\">\n",
       "      <th></th>\n",
       "      <th>time_in_hospital</th>\n",
       "      <th>num_lab_procedures</th>\n",
       "      <th>num_procedures</th>\n",
       "      <th>num_medications</th>\n",
       "      <th>number_outpatient</th>\n",
       "      <th>number_emergency</th>\n",
       "      <th>number_inpatient</th>\n",
       "      <th>number_diagnoses</th>\n",
       "      <th>number_diagnoses</th>\n",
       "      <th>age_group</th>\n",
       "      <th>...</th>\n",
       "      <th>med_spec_Family/GeneralPractice</th>\n",
       "      <th>med_spec_InternalMedicine</th>\n",
       "      <th>med_spec_Nephrology</th>\n",
       "      <th>med_spec_Orthopedics</th>\n",
       "      <th>med_spec_Orthopedics-Reconstructive</th>\n",
       "      <th>med_spec_Other</th>\n",
       "      <th>med_spec_Radiologist</th>\n",
       "      <th>med_spec_Surgery-General</th>\n",
       "      <th>med_spec_UNK</th>\n",
       "      <th>output_label</th>\n",
       "    </tr>\n",
       "  </thead>\n",
       "  <tbody>\n",
       "    <tr>\n",
       "      <th>0</th>\n",
       "      <td>1</td>\n",
       "      <td>41</td>\n",
       "      <td>0</td>\n",
       "      <td>1</td>\n",
       "      <td>0</td>\n",
       "      <td>0</td>\n",
       "      <td>0</td>\n",
       "      <td>1</td>\n",
       "      <td>1</td>\n",
       "      <td>0</td>\n",
       "      <td>...</td>\n",
       "      <td>0</td>\n",
       "      <td>0</td>\n",
       "      <td>0</td>\n",
       "      <td>0</td>\n",
       "      <td>0</td>\n",
       "      <td>1</td>\n",
       "      <td>0</td>\n",
       "      <td>0</td>\n",
       "      <td>0</td>\n",
       "      <td>0</td>\n",
       "    </tr>\n",
       "    <tr>\n",
       "      <th>1</th>\n",
       "      <td>3</td>\n",
       "      <td>59</td>\n",
       "      <td>0</td>\n",
       "      <td>18</td>\n",
       "      <td>0</td>\n",
       "      <td>0</td>\n",
       "      <td>0</td>\n",
       "      <td>9</td>\n",
       "      <td>9</td>\n",
       "      <td>10</td>\n",
       "      <td>...</td>\n",
       "      <td>0</td>\n",
       "      <td>0</td>\n",
       "      <td>0</td>\n",
       "      <td>0</td>\n",
       "      <td>0</td>\n",
       "      <td>0</td>\n",
       "      <td>0</td>\n",
       "      <td>0</td>\n",
       "      <td>1</td>\n",
       "      <td>0</td>\n",
       "    </tr>\n",
       "    <tr>\n",
       "      <th>2</th>\n",
       "      <td>2</td>\n",
       "      <td>11</td>\n",
       "      <td>5</td>\n",
       "      <td>13</td>\n",
       "      <td>2</td>\n",
       "      <td>0</td>\n",
       "      <td>1</td>\n",
       "      <td>6</td>\n",
       "      <td>6</td>\n",
       "      <td>20</td>\n",
       "      <td>...</td>\n",
       "      <td>0</td>\n",
       "      <td>0</td>\n",
       "      <td>0</td>\n",
       "      <td>0</td>\n",
       "      <td>0</td>\n",
       "      <td>0</td>\n",
       "      <td>0</td>\n",
       "      <td>0</td>\n",
       "      <td>1</td>\n",
       "      <td>0</td>\n",
       "    </tr>\n",
       "    <tr>\n",
       "      <th>3</th>\n",
       "      <td>2</td>\n",
       "      <td>44</td>\n",
       "      <td>1</td>\n",
       "      <td>16</td>\n",
       "      <td>0</td>\n",
       "      <td>0</td>\n",
       "      <td>0</td>\n",
       "      <td>7</td>\n",
       "      <td>7</td>\n",
       "      <td>30</td>\n",
       "      <td>...</td>\n",
       "      <td>0</td>\n",
       "      <td>0</td>\n",
       "      <td>0</td>\n",
       "      <td>0</td>\n",
       "      <td>0</td>\n",
       "      <td>0</td>\n",
       "      <td>0</td>\n",
       "      <td>0</td>\n",
       "      <td>1</td>\n",
       "      <td>0</td>\n",
       "    </tr>\n",
       "    <tr>\n",
       "      <th>4</th>\n",
       "      <td>1</td>\n",
       "      <td>51</td>\n",
       "      <td>0</td>\n",
       "      <td>8</td>\n",
       "      <td>0</td>\n",
       "      <td>0</td>\n",
       "      <td>0</td>\n",
       "      <td>5</td>\n",
       "      <td>5</td>\n",
       "      <td>40</td>\n",
       "      <td>...</td>\n",
       "      <td>0</td>\n",
       "      <td>0</td>\n",
       "      <td>0</td>\n",
       "      <td>0</td>\n",
       "      <td>0</td>\n",
       "      <td>0</td>\n",
       "      <td>0</td>\n",
       "      <td>0</td>\n",
       "      <td>1</td>\n",
       "      <td>0</td>\n",
       "    </tr>\n",
       "  </tbody>\n",
       "</table>\n",
       "<p>5 rows × 146 columns</p>\n",
       "</div>"
      ],
      "text/plain": [
       "   time_in_hospital  num_lab_procedures  num_procedures  num_medications  \\\n",
       "0                 1                  41               0                1   \n",
       "1                 3                  59               0               18   \n",
       "2                 2                  11               5               13   \n",
       "3                 2                  44               1               16   \n",
       "4                 1                  51               0                8   \n",
       "\n",
       "   number_outpatient  number_emergency  number_inpatient  number_diagnoses  \\\n",
       "0                  0                 0                 0                 1   \n",
       "1                  0                 0                 0                 9   \n",
       "2                  2                 0                 1                 6   \n",
       "3                  0                 0                 0                 7   \n",
       "4                  0                 0                 0                 5   \n",
       "\n",
       "   number_diagnoses  age_group  ...  med_spec_Family/GeneralPractice  \\\n",
       "0                 1          0  ...                                0   \n",
       "1                 9         10  ...                                0   \n",
       "2                 6         20  ...                                0   \n",
       "3                 7         30  ...                                0   \n",
       "4                 5         40  ...                                0   \n",
       "\n",
       "   med_spec_InternalMedicine  med_spec_Nephrology  med_spec_Orthopedics  \\\n",
       "0                          0                    0                     0   \n",
       "1                          0                    0                     0   \n",
       "2                          0                    0                     0   \n",
       "3                          0                    0                     0   \n",
       "4                          0                    0                     0   \n",
       "\n",
       "   med_spec_Orthopedics-Reconstructive  med_spec_Other  med_spec_Radiologist  \\\n",
       "0                                    0               1                     0   \n",
       "1                                    0               0                     0   \n",
       "2                                    0               0                     0   \n",
       "3                                    0               0                     0   \n",
       "4                                    0               0                     0   \n",
       "\n",
       "   med_spec_Surgery-General  med_spec_UNK  output_label  \n",
       "0                         0             0             0  \n",
       "1                         0             1             0  \n",
       "2                         0             1             0  \n",
       "3                         0             1             0  \n",
       "4                         0             1             0  \n",
       "\n",
       "[5 rows x 146 columns]"
      ]
     },
     "execution_count": 33,
     "metadata": {},
     "output_type": "execute_result"
    }
   ],
   "source": [
    "hospital_data.head()"
   ]
  },
  {
   "cell_type": "markdown",
   "id": "negative-score",
   "metadata": {},
   "source": [
    "## Creating Training / Validation / Test Sets"
   ]
  },
  {
   "cell_type": "markdown",
   "id": "anticipated-antigua",
   "metadata": {},
   "source": [
    "The data will be split into 70% training, 15% validation, and 15% test."
   ]
  },
  {
   "cell_type": "code",
   "execution_count": 34,
   "id": "green-phoenix",
   "metadata": {},
   "outputs": [
    {
     "name": "stdout",
     "output_type": "stream",
     "text": [
      "Training data prevalence (n = 69540): 0.11392004601668104\n",
      "Validation data prevalence (n = 14901): 0.11408630293268908\n",
      "Test data prevalence (n = 14902): 0.11354180646893035\n"
     ]
    }
   ],
   "source": [
    "# Shuffle the samples\n",
    "hospital_data = hospital_data.sample(n = len(hospital_data), random_state = 5)\n",
    "hospital_data = hospital_data.reset_index(drop = True)\n",
    "\n",
    "# Save 30% for val / test\n",
    "hospital_val_test = hospital_data.sample(frac = 0.3, random_state = 5)\n",
    "test_data = hospital_val_test.sample(frac = 0.5, random_state = 5)\n",
    "val_data = hospital_val_test.drop(test_data.index)\n",
    "\n",
    "# Use remaining data as training data\n",
    "training_data = hospital_data.drop(hospital_val_test.index)\n",
    "\n",
    "# Sanity check\n",
    "print('Training data prevalence (n = ' + str(len(training_data)) + '): ' + \n",
    "      str(sum(training_data['output_label'].values) / len(training_data['output_label'].values)))\n",
    "\n",
    "print('Validation data prevalence (n = ' + str(len(val_data)) + '): ' + \n",
    "      str(sum(val_data['output_label'].values) / len(val_data['output_label'].values)))\n",
    "\n",
    "print('Test data prevalence (n = ' + str(len(test_data)) + '): ' + \n",
    "      str(sum(test_data['output_label'].values) / len(test_data['output_label'].values)))"
   ]
  },
  {
   "cell_type": "markdown",
   "id": "flying-paper",
   "metadata": {},
   "source": [
    "Since the data is unbalanced, we will use a sub-sampling approach to create a balanced training data set with 50% readmissions (positive) and 50% non-readmissions (negative)."
   ]
  },
  {
   "cell_type": "code",
   "execution_count": 35,
   "id": "reverse-banking",
   "metadata": {},
   "outputs": [
    {
     "name": "stdout",
     "output_type": "stream",
     "text": [
      "Training data prevalence (n = 15844): 0.5\n"
     ]
    }
   ],
   "source": [
    "# Split training data into positive and negative\n",
    "pos_rows = training_data.output_label == 1\n",
    "train_pos = training_data.loc[pos_rows]\n",
    "train_neg = training_data.loc[~pos_rows]\n",
    "\n",
    "# Merging data in balanced way and shuffle\n",
    "training_data = pd.concat([train_pos, train_neg.sample(len(train_pos), random_state = 5)], axis = 0)\n",
    "training_data = training_data.sample(n = len(training_data), random_state = 5).reset_index(drop = True)\n",
    "\n",
    "print('Training data prevalence (n = ' + str(len(training_data)) + '): ' + \n",
    "      str(sum(training_data['output_label'].values) / len(training_data['output_label'].values)))"
   ]
  },
  {
   "cell_type": "code",
   "execution_count": 36,
   "id": "electrical-kernel",
   "metadata": {},
   "outputs": [
    {
     "data": {
      "text/html": [
       "<div>\n",
       "<style scoped>\n",
       "    .dataframe tbody tr th:only-of-type {\n",
       "        vertical-align: middle;\n",
       "    }\n",
       "\n",
       "    .dataframe tbody tr th {\n",
       "        vertical-align: top;\n",
       "    }\n",
       "\n",
       "    .dataframe thead th {\n",
       "        text-align: right;\n",
       "    }\n",
       "</style>\n",
       "<table border=\"1\" class=\"dataframe\">\n",
       "  <thead>\n",
       "    <tr style=\"text-align: right;\">\n",
       "      <th></th>\n",
       "      <th>time_in_hospital</th>\n",
       "      <th>num_lab_procedures</th>\n",
       "      <th>num_procedures</th>\n",
       "      <th>num_medications</th>\n",
       "      <th>number_outpatient</th>\n",
       "      <th>number_emergency</th>\n",
       "      <th>number_inpatient</th>\n",
       "      <th>number_diagnoses</th>\n",
       "      <th>number_diagnoses</th>\n",
       "      <th>age_group</th>\n",
       "      <th>...</th>\n",
       "      <th>med_spec_Family/GeneralPractice</th>\n",
       "      <th>med_spec_InternalMedicine</th>\n",
       "      <th>med_spec_Nephrology</th>\n",
       "      <th>med_spec_Orthopedics</th>\n",
       "      <th>med_spec_Orthopedics-Reconstructive</th>\n",
       "      <th>med_spec_Other</th>\n",
       "      <th>med_spec_Radiologist</th>\n",
       "      <th>med_spec_Surgery-General</th>\n",
       "      <th>med_spec_UNK</th>\n",
       "      <th>output_label</th>\n",
       "    </tr>\n",
       "  </thead>\n",
       "  <tbody>\n",
       "    <tr>\n",
       "      <th>0</th>\n",
       "      <td>3</td>\n",
       "      <td>37</td>\n",
       "      <td>0</td>\n",
       "      <td>12</td>\n",
       "      <td>0</td>\n",
       "      <td>0</td>\n",
       "      <td>2</td>\n",
       "      <td>6</td>\n",
       "      <td>6</td>\n",
       "      <td>80</td>\n",
       "      <td>...</td>\n",
       "      <td>1</td>\n",
       "      <td>0</td>\n",
       "      <td>0</td>\n",
       "      <td>0</td>\n",
       "      <td>0</td>\n",
       "      <td>0</td>\n",
       "      <td>0</td>\n",
       "      <td>0</td>\n",
       "      <td>0</td>\n",
       "      <td>0</td>\n",
       "    </tr>\n",
       "    <tr>\n",
       "      <th>1</th>\n",
       "      <td>9</td>\n",
       "      <td>80</td>\n",
       "      <td>0</td>\n",
       "      <td>16</td>\n",
       "      <td>0</td>\n",
       "      <td>0</td>\n",
       "      <td>0</td>\n",
       "      <td>6</td>\n",
       "      <td>6</td>\n",
       "      <td>80</td>\n",
       "      <td>...</td>\n",
       "      <td>0</td>\n",
       "      <td>1</td>\n",
       "      <td>0</td>\n",
       "      <td>0</td>\n",
       "      <td>0</td>\n",
       "      <td>0</td>\n",
       "      <td>0</td>\n",
       "      <td>0</td>\n",
       "      <td>0</td>\n",
       "      <td>1</td>\n",
       "    </tr>\n",
       "    <tr>\n",
       "      <th>2</th>\n",
       "      <td>5</td>\n",
       "      <td>55</td>\n",
       "      <td>2</td>\n",
       "      <td>12</td>\n",
       "      <td>0</td>\n",
       "      <td>0</td>\n",
       "      <td>1</td>\n",
       "      <td>6</td>\n",
       "      <td>6</td>\n",
       "      <td>70</td>\n",
       "      <td>...</td>\n",
       "      <td>1</td>\n",
       "      <td>0</td>\n",
       "      <td>0</td>\n",
       "      <td>0</td>\n",
       "      <td>0</td>\n",
       "      <td>0</td>\n",
       "      <td>0</td>\n",
       "      <td>0</td>\n",
       "      <td>0</td>\n",
       "      <td>1</td>\n",
       "    </tr>\n",
       "    <tr>\n",
       "      <th>3</th>\n",
       "      <td>3</td>\n",
       "      <td>43</td>\n",
       "      <td>0</td>\n",
       "      <td>15</td>\n",
       "      <td>2</td>\n",
       "      <td>0</td>\n",
       "      <td>1</td>\n",
       "      <td>8</td>\n",
       "      <td>8</td>\n",
       "      <td>60</td>\n",
       "      <td>...</td>\n",
       "      <td>0</td>\n",
       "      <td>0</td>\n",
       "      <td>1</td>\n",
       "      <td>0</td>\n",
       "      <td>0</td>\n",
       "      <td>0</td>\n",
       "      <td>0</td>\n",
       "      <td>0</td>\n",
       "      <td>0</td>\n",
       "      <td>1</td>\n",
       "    </tr>\n",
       "    <tr>\n",
       "      <th>4</th>\n",
       "      <td>1</td>\n",
       "      <td>25</td>\n",
       "      <td>1</td>\n",
       "      <td>14</td>\n",
       "      <td>0</td>\n",
       "      <td>0</td>\n",
       "      <td>0</td>\n",
       "      <td>5</td>\n",
       "      <td>5</td>\n",
       "      <td>40</td>\n",
       "      <td>...</td>\n",
       "      <td>0</td>\n",
       "      <td>0</td>\n",
       "      <td>0</td>\n",
       "      <td>0</td>\n",
       "      <td>0</td>\n",
       "      <td>1</td>\n",
       "      <td>0</td>\n",
       "      <td>0</td>\n",
       "      <td>0</td>\n",
       "      <td>0</td>\n",
       "    </tr>\n",
       "  </tbody>\n",
       "</table>\n",
       "<p>5 rows × 146 columns</p>\n",
       "</div>"
      ],
      "text/plain": [
       "   time_in_hospital  num_lab_procedures  num_procedures  num_medications  \\\n",
       "0                 3                  37               0               12   \n",
       "1                 9                  80               0               16   \n",
       "2                 5                  55               2               12   \n",
       "3                 3                  43               0               15   \n",
       "4                 1                  25               1               14   \n",
       "\n",
       "   number_outpatient  number_emergency  number_inpatient  number_diagnoses  \\\n",
       "0                  0                 0                 2                 6   \n",
       "1                  0                 0                 0                 6   \n",
       "2                  0                 0                 1                 6   \n",
       "3                  2                 0                 1                 8   \n",
       "4                  0                 0                 0                 5   \n",
       "\n",
       "   number_diagnoses  age_group  ...  med_spec_Family/GeneralPractice  \\\n",
       "0                 6         80  ...                                1   \n",
       "1                 6         80  ...                                0   \n",
       "2                 6         70  ...                                1   \n",
       "3                 8         60  ...                                0   \n",
       "4                 5         40  ...                                0   \n",
       "\n",
       "   med_spec_InternalMedicine  med_spec_Nephrology  med_spec_Orthopedics  \\\n",
       "0                          0                    0                     0   \n",
       "1                          1                    0                     0   \n",
       "2                          0                    0                     0   \n",
       "3                          0                    1                     0   \n",
       "4                          0                    0                     0   \n",
       "\n",
       "   med_spec_Orthopedics-Reconstructive  med_spec_Other  med_spec_Radiologist  \\\n",
       "0                                    0               0                     0   \n",
       "1                                    0               0                     0   \n",
       "2                                    0               0                     0   \n",
       "3                                    0               0                     0   \n",
       "4                                    0               1                     0   \n",
       "\n",
       "   med_spec_Surgery-General  med_spec_UNK  output_label  \n",
       "0                         0             0             0  \n",
       "1                         0             0             1  \n",
       "2                         0             0             1  \n",
       "3                         0             0             1  \n",
       "4                         0             0             0  \n",
       "\n",
       "[5 rows x 146 columns]"
      ]
     },
     "execution_count": 36,
     "metadata": {},
     "output_type": "execute_result"
    }
   ],
   "source": [
    "training_data.head()"
   ]
  },
  {
   "cell_type": "markdown",
   "id": "numeric-success",
   "metadata": {},
   "source": [
    "Machine learning packages use input matrix X and output vector y, so we manipulate our data to fit this format. We use sci-kit learn's Standard Scaler function to scale our data to unit variance."
   ]
  },
  {
   "cell_type": "code",
   "execution_count": 37,
   "id": "familiar-jersey",
   "metadata": {},
   "outputs": [
    {
     "name": "stdout",
     "output_type": "stream",
     "text": [
      "Training data shapes: (15844, 149) (15844,)\n",
      "Validation data shapes: (14901, 149) (14901,)\n"
     ]
    }
   ],
   "source": [
    "X_all = hospital_data[feature_cols].values\n",
    "X_train = training_data[feature_cols].values\n",
    "X_val = val_data[feature_cols].values\n",
    "\n",
    "y_train = training_data['output_label'].values\n",
    "y_val = val_data['output_label'].values\n",
    "\n",
    "print('Training data shapes:', X_train.shape, y_train.shape)\n",
    "print('Validation data shapes:', X_val.shape, y_val.shape)"
   ]
  },
  {
   "cell_type": "code",
   "execution_count": 38,
   "id": "varying-timer",
   "metadata": {},
   "outputs": [],
   "source": [
    "from sklearn.preprocessing import StandardScaler\n",
    "\n",
    "scaler = StandardScaler()\n",
    "scaler.fit(X_all)\n",
    "\n",
    "X_train_tf = scaler.transform(X_train)\n",
    "X_val_tf = scaler.transform(X_val)"
   ]
  },
  {
   "cell_type": "markdown",
   "id": "compact-orchestra",
   "metadata": {},
   "source": [
    "With out transformed, normalized training features and labels, we can proceed to selecting a model for classification."
   ]
  },
  {
   "cell_type": "markdown",
   "id": "intensive-matter",
   "metadata": {},
   "source": [
    "## Model Selection"
   ]
  },
  {
   "cell_type": "markdown",
   "id": "complicated-garlic",
   "metadata": {},
   "source": [
    "In this section, I will compare the K-nearest neighbors model, logistic regression model, and the decision tree classifier. Our metrics for comparing the models will be the AUC score, accuracy score, precision score, and recall score. It's important to note that guessing 'not readmitted' for every sample would result in a 89% accuracy rate, yet the recall would be 0%, since we would never predict a readmission. Guessing randomly would result in a 50% accuracy rate."
   ]
  },
  {
   "cell_type": "code",
   "execution_count": 39,
   "id": "graduate-penny",
   "metadata": {},
   "outputs": [],
   "source": [
    "from sklearn.metrics import roc_auc_score, accuracy_score, precision_score, recall_score\n",
    "\n",
    "def print_report(y_actual, y_pred, threshold = 0.5):\n",
    "    auc = roc_auc_score(y_actual, y_pred)\n",
    "    accuracy = accuracy_score(y_actual, (y_pred > threshold))\n",
    "    recall = recall_score(y_actual, (y_pred > threshold))\n",
    "    precision = precision_score(y_actual, (y_pred > threshold))\n",
    "    print('AUC: ', auc)\n",
    "    print('accuracy: ', accuracy)\n",
    "    print('recall: ', recall)\n",
    "    print('precision: ', precision)\n",
    "    return auc, accuracy, recall, precision"
   ]
  },
  {
   "cell_type": "markdown",
   "id": "established-floating",
   "metadata": {},
   "source": [
    "### K-nearest neighbors (KNN)"
   ]
  },
  {
   "cell_type": "code",
   "execution_count": 40,
   "id": "wooden-tracker",
   "metadata": {},
   "outputs": [
    {
     "data": {
      "text/plain": [
       "KNeighborsClassifier(n_neighbors=100)"
      ]
     },
     "execution_count": 40,
     "metadata": {},
     "output_type": "execute_result"
    }
   ],
   "source": [
    "from sklearn.neighbors import KNeighborsClassifier\n",
    "knn = KNeighborsClassifier(n_neighbors = 100)\n",
    "knn.fit(X_train_tf, y_train)"
   ]
  },
  {
   "cell_type": "code",
   "execution_count": 41,
   "id": "educational-listing",
   "metadata": {},
   "outputs": [
    {
     "name": "stdout",
     "output_type": "stream",
     "text": [
      "KNN\n",
      "Training:\n",
      "AUC:  0.6471683074327126\n",
      "accuracy:  0.6006690229739965\n",
      "recall:  0.5059328452411007\n",
      "precision:  0.6242018377199813\n",
      "\n",
      "Validation:\n",
      "AUC:  0.633711283013319\n",
      "accuracy:  0.6600899268505469\n",
      "recall:  0.5141176470588236\n",
      "precision:  0.17093682769411306\n"
     ]
    }
   ],
   "source": [
    "y_train_pred = knn.predict_proba(X_train_tf)[:, 1]\n",
    "y_val_pred = knn.predict_proba(X_val_tf)[:, 1]\n",
    "\n",
    "print('KNN')\n",
    "print('Training:')\n",
    "knn_train_auc, knn_train_acc, knn_train_recall, knn_train_prec = print_report(y_train, y_train_pred)\n",
    "print()\n",
    "print('Validation:')\n",
    "knn_val_auc, knn_val_acc, knn_val_recall, knn_val_prec = print_report(y_val, y_val_pred)"
   ]
  },
  {
   "cell_type": "markdown",
   "id": "first-consumer",
   "metadata": {},
   "source": [
    "### SGD (stochastic gradient descent) Logistic Regression"
   ]
  },
  {
   "cell_type": "code",
   "execution_count": 42,
   "id": "voluntary-drilling",
   "metadata": {},
   "outputs": [
    {
     "data": {
      "text/plain": [
       "SGDClassifier(alpha=0.1, loss='log', random_state=5)"
      ]
     },
     "execution_count": 42,
     "metadata": {},
     "output_type": "execute_result"
    }
   ],
   "source": [
    "from sklearn.linear_model import SGDClassifier\n",
    "sgdc = SGDClassifier(loss = 'log', alpha = 0.1, random_state = 5)\n",
    "\n",
    "sgdc.fit(X_train_tf, y_train)"
   ]
  },
  {
   "cell_type": "code",
   "execution_count": 43,
   "id": "associate-catering",
   "metadata": {},
   "outputs": [
    {
     "name": "stdout",
     "output_type": "stream",
     "text": [
      "SGD Logistic Regression\n",
      "Training:\n",
      "AUC:  0.6663677304106352\n",
      "accuracy:  0.6197298661954052\n",
      "recall:  0.5568038374147942\n",
      "precision:  0.6369675090252708\n",
      "\n",
      "Validation:\n",
      "AUC:  0.6792550475231378\n",
      "accuracy:  0.6630427488088048\n",
      "recall:  0.5741176470588235\n",
      "precision:  0.18509387445476957\n"
     ]
    }
   ],
   "source": [
    "y_train_pred = sgdc.predict_proba(X_train_tf)[:, 1]\n",
    "y_val_pred = sgdc.predict_proba(X_val_tf)[:, 1]\n",
    "\n",
    "print('SGD Logistic Regression')\n",
    "print('Training:')\n",
    "sgd_train_auc, sgd_train_acc, sgd_train_recall, sgd_train_prec = print_report(y_train, y_train_pred)\n",
    "print()\n",
    "print('Validation:')\n",
    "sgd_val_auc, sgd_val_acc, sgd_val_recall, sgd_val_prec = print_report(y_val, y_val_pred)"
   ]
  },
  {
   "cell_type": "markdown",
   "id": "employed-consent",
   "metadata": {},
   "source": [
    "### Decision Tree Classifier\n"
   ]
  },
  {
   "cell_type": "code",
   "execution_count": 44,
   "id": "scenic-receipt",
   "metadata": {},
   "outputs": [
    {
     "data": {
      "text/plain": [
       "DecisionTreeClassifier(max_depth=10, random_state=5)"
      ]
     },
     "execution_count": 44,
     "metadata": {},
     "output_type": "execute_result"
    }
   ],
   "source": [
    "from sklearn.tree import DecisionTreeClassifier\n",
    "\n",
    "tree = DecisionTreeClassifier(max_depth = 10, random_state = 5)\n",
    "tree.fit(X_train_tf, y_train)"
   ]
  },
  {
   "cell_type": "code",
   "execution_count": 45,
   "id": "protecting-station",
   "metadata": {},
   "outputs": [
    {
     "name": "stdout",
     "output_type": "stream",
     "text": [
      "Decision Tree Classifier\n",
      "Training:\n",
      "AUC:  0.7377043728740985\n",
      "accuracy:  0.6665614743751578\n",
      "recall:  0.6055289068417067\n",
      "precision:  0.6897196261682244\n",
      "\n",
      "Validation:\n",
      "AUC:  0.639067027007758\n",
      "accuracy:  0.6488826253271592\n",
      "recall:  0.5547058823529412\n",
      "precision:  0.17404946474713917\n"
     ]
    }
   ],
   "source": [
    "y_train_pred = tree.predict_proba(X_train_tf)[:, 1]\n",
    "y_val_pred = tree.predict_proba(X_val_tf)[:, 1]\n",
    "\n",
    "print('Decision Tree Classifier')\n",
    "print('Training:')\n",
    "tree_train_auc, tree_train_acc, tree_train_recall, tree_train_prec = print_report(y_train, y_train_pred)\n",
    "print()\n",
    "print('Validation:')\n",
    "tree_val_auc, tree_val_acc, tree_val_recall, tree_val_prec = print_report(y_val, y_val_pred)"
   ]
  },
  {
   "cell_type": "code",
   "execution_count": 46,
   "id": "animated-thanks",
   "metadata": {},
   "outputs": [
    {
     "data": {
      "image/png": "[encoded data removed]",
      "text/plain": [
       "<Figure size 432x288 with 1 Axes>"
      ]
     },
     "metadata": {},
     "output_type": "display_data"
    }
   ],
   "source": [
    "import seaborn as sns\n",
    "import matplotlib.pyplot as plt\n",
    "sns.set(style=\"darkgrid\")\n",
    "\n",
    "model_results = pd.DataFrame({'classifier':['KNN','KNN','SGD','SGD','DT','DT'],\n",
    "                           'data_set':['train','valid'] * 3,\n",
    "                           'auc':[knn_train_auc, knn_val_auc, sgd_train_auc, sgd_val_auc, \n",
    "                                  tree_train_auc, tree_val_auc]})\n",
    "\n",
    "ax = sns.barplot(x= \"classifier\", y= \"auc\", hue= \"data_set\", data = model_results)\n",
    "ax.set_xlabel('Classifier',fontsize = 15)\n",
    "ax.set_ylabel('AUC', fontsize = 15)\n",
    "ax.tick_params(labelsize=15)\n",
    "\n",
    "plt.legend(bbox_to_anchor=(1.05, 1), loc=2, borderaxespad=0., fontsize = 15)\n",
    "plt.show()"
   ]
  },
  {
   "cell_type": "markdown",
   "id": "white-wages",
   "metadata": {},
   "source": [
    "### Takeaways\n",
    "- The Decision Tree Classifier performed the best on the training data, but the performance did not carry over to the validation data.\n",
    "- The K-nearest neighbor classifier was the worst performing model of the three models\n",
    "- The SGD Logistic Regression classifier performed better than the KNN model and was more consistent that the Decision Tree Classifier, so this classifier will be used for classifying our test data."
   ]
  },
  {
   "cell_type": "markdown",
   "id": "sacred-membership",
   "metadata": {},
   "source": [
    "## Test Evaluation"
   ]
  },
  {
   "cell_type": "markdown",
   "id": "downtown-environment",
   "metadata": {},
   "source": [
    "After comparing three different classifiers, our result show that the SGD Logistic Regression classifier performed better and more robustly than the other two models. We will use this model in our test evaluation."
   ]
  },
  {
   "cell_type": "code",
   "execution_count": 47,
   "id": "professional-sandwich",
   "metadata": {},
   "outputs": [],
   "source": [
    "X_test = test_data[feature_cols].values\n",
    "y_test = test_data['output_label'].values\n",
    "X_test_tf = scaler.transform(X_test)"
   ]
  },
  {
   "cell_type": "code",
   "execution_count": 48,
   "id": "digital-groove",
   "metadata": {},
   "outputs": [
    {
     "name": "stdout",
     "output_type": "stream",
     "text": [
      "SGD Logistic Regression\n",
      "Training:\n",
      "AUC:  0.6663677304106352\n",
      "accuracy:  0.6197298661954052\n",
      "recall:  0.5568038374147942\n",
      "precision:  0.6369675090252708\n",
      "\n",
      "Validation:\n",
      "AUC:  0.6792550475231378\n",
      "accuracy:  0.6630427488088048\n",
      "recall:  0.5741176470588235\n",
      "precision:  0.18509387445476957\n",
      "\n",
      "Test:\n",
      "AUC:  0.6538727019254345\n",
      "accuracy:  0.6597101060260367\n",
      "recall:  0.5455082742316785\n",
      "precision:  0.17665071770334928\n"
     ]
    }
   ],
   "source": [
    "sgdc_final = SGDClassifier(loss = 'log', alpha = 0.1, random_state = 5)\n",
    "sgdc_final.fit(X_train_tf, y_train)\n",
    "\n",
    "y_train_pred = sgdc_final.predict_proba(X_train_tf)[:,1]\n",
    "y_val_pred = sgdc_final.predict_proba(X_val_tf)[:,1]\n",
    "y_test_pred = sgdc_final.predict_proba(X_test_tf)[:,1]\n",
    "\n",
    "print('SGD Logistic Regression')\n",
    "print('Training:')\n",
    "sgd_train_auc, sgd_train_acc, sgd_train_recall, sgd_train_prec = print_report(y_train, y_train_pred)\n",
    "print()\n",
    "print('Validation:')\n",
    "sgd_val_auc, sgd_val_acc, sgd_val_recall, sgd_val_prec = print_report(y_val, y_val_pred)\n",
    "print()\n",
    "print('Test:')\n",
    "sgd_test_auc, sgd_test_acc, sgd_test_recall, sgd_test_prec = print_report(y_test, y_test_pred)"
   ]
  },
  {
   "cell_type": "code",
   "execution_count": 50,
   "id": "african-kidney",
   "metadata": {},
   "outputs": [
    {
     "data": {
      "image/png": "[encoded data removed]",
      "text/plain": [
       "<Figure size 504x504 with 1 Axes>"
      ]
     },
     "metadata": {},
     "output_type": "display_data"
    }
   ],
   "source": [
    "from sklearn.metrics import roc_curve \n",
    "\n",
    "fpr_train, tpr_train, thresholds_train = roc_curve(y_train, y_train_pred)\n",
    "auc_train = roc_auc_score(y_train, y_train_pred)\n",
    "\n",
    "fpr_valid, tpr_valid, thresholds_valid = roc_curve(y_val, y_val_pred)\n",
    "auc_valid = roc_auc_score(y_val, y_val_pred)\n",
    "\n",
    "fpr_test, tpr_test, thresholds_test = roc_curve(y_test, y_test_pred)\n",
    "auc_test = roc_auc_score(y_test, y_test_pred)\n",
    "\n",
    "plt.figure(figsize=(7,7))\n",
    "plt.plot(fpr_train, tpr_train, 'r', label = ('Train AUC: ' + str(round(auc_train, 2))))\n",
    "plt.plot(fpr_valid, tpr_valid, 'b',label = ('Valid AUC: ' + str(round(auc_valid, 2))))\n",
    "plt.plot(fpr_test, tpr_test, 'g',label =('Test AUC: ' +  str(round(auc_test, 2))))\n",
    "plt.plot([0,1],[0,1],'k--')\n",
    "plt.xlabel('False Positive Rate')\n",
    "plt.ylabel('True Positive Rate')\n",
    "plt.legend()\n",
    "\n",
    "plt.show()"
   ]
  },
  {
   "cell_type": "markdown",
   "id": "present-kennedy",
   "metadata": {},
   "source": [
    "## Conclusion"
   ]
  },
  {
   "cell_type": "markdown",
   "id": "coated-prayer",
   "metadata": {},
   "source": [
    "The objective of this modeling task was to find a model that could predict the probability that a patient would be readmitted into the hospital after 30 days. Once again, it is important to note that guessing 'not readmitted' for every sample would result in a 89% accuracy rate, yet the recall would be 0%, since we would never predict a readmission. Guessing randomly would result in a 50% accuracy rate. Our best model, the SGD Logistic Regression classifer, had a 67% test accuracy on held-out data and AUC score of 0.66. There is room for improvement by performing more detailed data research, tuning the hyperparameters of the models, and using new models such as multi-layer perceptron binary classifiers."
   ]
  }
 ],
 "metadata": {
  "kernelspec": {
   "display_name": "Python 3",
   "language": "python",
   "name": "python3"
  },
  "language_info": {
   "codemirror_mode": {
    "name": "ipython",
    "version": 3
   },
   "file_extension": ".py",
   "mimetype": "text/x-python",
   "name": "python",
   "nbconvert_exporter": "python",
   "pygments_lexer": "ipython3",
   "version": "3.9.2"
  }
 },
 "nbformat": 4,
 "nbformat_minor": 5
}
